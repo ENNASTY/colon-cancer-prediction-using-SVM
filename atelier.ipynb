{
 "cells": [
  {
   "cell_type": "code",
   "execution_count": 101,
   "metadata": {},
   "outputs": [],
   "source": [
    "import pandas as pd\n",
    "import numpy as np\n",
    "from sklearn.linear_model import LogisticRegression\n",
    "from sklearn.model_selection import train_test_split  \n",
    "from sklearn import metrics\n",
    "import seaborn as sns\n",
    "import matplotlib.pyplot as plt"
   ]
  },
  {
   "cell_type": "code",
   "execution_count": 102,
   "metadata": {},
   "outputs": [
    {
     "data": {
      "text/html": [
       "<div>\n",
       "<style scoped>\n",
       "    .dataframe tbody tr th:only-of-type {\n",
       "        vertical-align: middle;\n",
       "    }\n",
       "\n",
       "    .dataframe tbody tr th {\n",
       "        vertical-align: top;\n",
       "    }\n",
       "\n",
       "    .dataframe thead th {\n",
       "        text-align: right;\n",
       "    }\n",
       "</style>\n",
       "<table border=\"1\" class=\"dataframe\">\n",
       "  <thead>\n",
       "    <tr style=\"text-align: right;\">\n",
       "      <th></th>\n",
       "      <th>ADH1C</th>\n",
       "      <th>DHRS11</th>\n",
       "      <th>UGP2</th>\n",
       "      <th>SLC7A5</th>\n",
       "      <th>CTSS</th>\n",
       "      <th>DAO</th>\n",
       "      <th>NIBAN1</th>\n",
       "      <th>PRUNE2</th>\n",
       "      <th>FOXF2</th>\n",
       "      <th>TENT5C</th>\n",
       "      <th>...</th>\n",
       "      <th>BSPRY</th>\n",
       "      <th>CDHR2</th>\n",
       "      <th>ERRFI1</th>\n",
       "      <th>CLIC5</th>\n",
       "      <th>PLLP</th>\n",
       "      <th>GAL</th>\n",
       "      <th>CRYL1</th>\n",
       "      <th>YBX2</th>\n",
       "      <th>ANGPTL4</th>\n",
       "      <th>tissue_status</th>\n",
       "    </tr>\n",
       "  </thead>\n",
       "  <tbody>\n",
       "    <tr>\n",
       "      <th>0</th>\n",
       "      <td>9.199944</td>\n",
       "      <td>6.090054</td>\n",
       "      <td>7.062512</td>\n",
       "      <td>3.864253</td>\n",
       "      <td>7.869368</td>\n",
       "      <td>8.465133</td>\n",
       "      <td>1.174665</td>\n",
       "      <td>0.975086</td>\n",
       "      <td>3.028995</td>\n",
       "      <td>6.350919</td>\n",
       "      <td>...</td>\n",
       "      <td>5.528372</td>\n",
       "      <td>3.500730</td>\n",
       "      <td>2.893760</td>\n",
       "      <td>5.130743</td>\n",
       "      <td>1.485110</td>\n",
       "      <td>1.830484</td>\n",
       "      <td>6.379933</td>\n",
       "      <td>3.919293</td>\n",
       "      <td>3.031413</td>\n",
       "      <td>normal</td>\n",
       "    </tr>\n",
       "    <tr>\n",
       "      <th>1</th>\n",
       "      <td>7.767618</td>\n",
       "      <td>6.027985</td>\n",
       "      <td>6.318818</td>\n",
       "      <td>3.069581</td>\n",
       "      <td>6.410334</td>\n",
       "      <td>8.159814</td>\n",
       "      <td>5.959414</td>\n",
       "      <td>1.625518</td>\n",
       "      <td>2.984629</td>\n",
       "      <td>4.686086</td>\n",
       "      <td>...</td>\n",
       "      <td>5.671788</td>\n",
       "      <td>4.658790</td>\n",
       "      <td>4.715374</td>\n",
       "      <td>5.438104</td>\n",
       "      <td>2.131466</td>\n",
       "      <td>2.097157</td>\n",
       "      <td>6.863173</td>\n",
       "      <td>0.322829</td>\n",
       "      <td>3.978531</td>\n",
       "      <td>normal</td>\n",
       "    </tr>\n",
       "    <tr>\n",
       "      <th>2</th>\n",
       "      <td>7.918904</td>\n",
       "      <td>5.885948</td>\n",
       "      <td>6.917742</td>\n",
       "      <td>3.188257</td>\n",
       "      <td>7.915549</td>\n",
       "      <td>8.004194</td>\n",
       "      <td>1.560386</td>\n",
       "      <td>2.379909</td>\n",
       "      <td>2.929762</td>\n",
       "      <td>4.281126</td>\n",
       "      <td>...</td>\n",
       "      <td>4.596079</td>\n",
       "      <td>5.649376</td>\n",
       "      <td>4.047899</td>\n",
       "      <td>6.580938</td>\n",
       "      <td>1.447209</td>\n",
       "      <td>3.890943</td>\n",
       "      <td>6.209704</td>\n",
       "      <td>3.274407</td>\n",
       "      <td>3.714491</td>\n",
       "      <td>normal</td>\n",
       "    </tr>\n",
       "    <tr>\n",
       "      <th>3</th>\n",
       "      <td>9.053553</td>\n",
       "      <td>6.027985</td>\n",
       "      <td>7.081085</td>\n",
       "      <td>2.357523</td>\n",
       "      <td>5.657726</td>\n",
       "      <td>8.004194</td>\n",
       "      <td>3.548988</td>\n",
       "      <td>3.260031</td>\n",
       "      <td>3.313829</td>\n",
       "      <td>4.821072</td>\n",
       "      <td>...</td>\n",
       "      <td>4.135061</td>\n",
       "      <td>5.437107</td>\n",
       "      <td>4.537381</td>\n",
       "      <td>4.615263</td>\n",
       "      <td>1.004454</td>\n",
       "      <td>1.840902</td>\n",
       "      <td>6.774063</td>\n",
       "      <td>3.320525</td>\n",
       "      <td>3.080796</td>\n",
       "      <td>normal</td>\n",
       "    </tr>\n",
       "    <tr>\n",
       "      <th>4</th>\n",
       "      <td>6.027822</td>\n",
       "      <td>5.791257</td>\n",
       "      <td>5.937685</td>\n",
       "      <td>4.137667</td>\n",
       "      <td>5.818999</td>\n",
       "      <td>8.056067</td>\n",
       "      <td>3.307945</td>\n",
       "      <td>5.208874</td>\n",
       "      <td>4.191695</td>\n",
       "      <td>5.181036</td>\n",
       "      <td>...</td>\n",
       "      <td>3.674043</td>\n",
       "      <td>6.286182</td>\n",
       "      <td>4.715374</td>\n",
       "      <td>4.432410</td>\n",
       "      <td>0.159195</td>\n",
       "      <td>3.506561</td>\n",
       "      <td>6.150297</td>\n",
       "      <td>0.461184</td>\n",
       "      <td>5.140305</td>\n",
       "      <td>normal</td>\n",
       "    </tr>\n",
       "  </tbody>\n",
       "</table>\n",
       "<p>5 rows × 61 columns</p>\n",
       "</div>"
      ],
      "text/plain": [
       "      ADH1C    DHRS11      UGP2    SLC7A5      CTSS       DAO    NIBAN1  \\\n",
       "0  9.199944  6.090054  7.062512  3.864253  7.869368  8.465133  1.174665   \n",
       "1  7.767618  6.027985  6.318818  3.069581  6.410334  8.159814  5.959414   \n",
       "2  7.918904  5.885948  6.917742  3.188257  7.915549  8.004194  1.560386   \n",
       "3  9.053553  6.027985  7.081085  2.357523  5.657726  8.004194  3.548988   \n",
       "4  6.027822  5.791257  5.937685  4.137667  5.818999  8.056067  3.307945   \n",
       "\n",
       "     PRUNE2     FOXF2    TENT5C  ...     BSPRY     CDHR2    ERRFI1     CLIC5  \\\n",
       "0  0.975086  3.028995  6.350919  ...  5.528372  3.500730  2.893760  5.130743   \n",
       "1  1.625518  2.984629  4.686086  ...  5.671788  4.658790  4.715374  5.438104   \n",
       "2  2.379909  2.929762  4.281126  ...  4.596079  5.649376  4.047899  6.580938   \n",
       "3  3.260031  3.313829  4.821072  ...  4.135061  5.437107  4.537381  4.615263   \n",
       "4  5.208874  4.191695  5.181036  ...  3.674043  6.286182  4.715374  4.432410   \n",
       "\n",
       "       PLLP       GAL     CRYL1      YBX2   ANGPTL4  tissue_status  \n",
       "0  1.485110  1.830484  6.379933  3.919293  3.031413         normal  \n",
       "1  2.131466  2.097157  6.863173  0.322829  3.978531         normal  \n",
       "2  1.447209  3.890943  6.209704  3.274407  3.714491         normal  \n",
       "3  1.004454  1.840902  6.774063  3.320525  3.080796         normal  \n",
       "4  0.159195  3.506561  6.150297  0.461184  5.140305         normal  \n",
       "\n",
       "[5 rows x 61 columns]"
      ]
     },
     "execution_count": 102,
     "metadata": {},
     "output_type": "execute_result"
    }
   ],
   "source": [
    "df=pd.read_csv('colon_cancer (1).csv', sep=';')\n",
    "df=df.drop('id_sample', axis=1)\n",
    "df.head()"
   ]
  },
  {
   "cell_type": "code",
   "execution_count": 103,
   "metadata": {},
   "outputs": [
    {
     "name": "stdout",
     "output_type": "stream",
     "text": [
      "Accuracy of logistic regression classifier on test set: 1.00\n"
     ]
    }
   ],
   "source": [
    "# regression logistic\n",
    "X=df.drop(['tissue_status'], axis=1)\n",
    "y=df['tissue_status']\n",
    "X_train, X_test, y_train, y_test = train_test_split(X, y, test_size=0.2, random_state=0)\n",
    "logreg = LogisticRegression()\n",
    "logreg.fit(X_train, y_train)\n",
    "y_pred = logreg.predict(X_test)\n",
    "print('Accuracy of logistic regression classifier on test set: {:.2f}'.format(metrics.accuracy_score(y_test, y_pred)))\n"
   ]
  },
  {
   "cell_type": "code",
   "execution_count": 104,
   "metadata": {},
   "outputs": [
    {
     "name": "stdout",
     "output_type": "stream",
     "text": [
      "Accuracy of SVM classifier on test set: 1.00\n"
     ]
    }
   ],
   "source": [
    "# SVM\n",
    "from sklearn.svm import SVC\n",
    "svclassifier = SVC(kernel='linear')\n",
    "svclassifier.fit(X_train, y_train)\n",
    "y_pred = svclassifier.predict(X_test)\n",
    "print('Accuracy of SVM classifier on test set: {:.2f}'.format(metrics.accuracy_score(y_test, y_pred)))\n"
   ]
  },
  {
   "cell_type": "code",
   "execution_count": null,
   "metadata": {},
   "outputs": [
    {
     "name": "stdout",
     "output_type": "stream",
     "text": [
      "Accuracy of Decision Tree classifier on test set: 0.99\n"
     ]
    }
   ],
   "source": [
    "# Decision Tree\n",
    "from sklearn.tree import DecisionTreeClassifier\n",
    "clf = DecisionTreeClassifier(max_depth=3)\n",
    "clf = clf.fit(X_train,y_train)\n",
    "y_pred = clf.predict(X_test)\n",
    "print('Accuracy of Decision Tree classifier on test set: {:.2f}'.format(metrics.accuracy_score(y_test, y_pred)))"
   ]
  },
  {
   "cell_type": "code",
   "execution_count": null,
   "metadata": {},
   "outputs": [
    {
     "name": "stdout",
     "output_type": "stream",
     "text": [
      "Accuracy of Random Forest classifier on test set: 1.00\n"
     ]
    }
   ],
   "source": [
    "# random forest\n",
    "from sklearn.ensemble import RandomForestClassifier\n",
    "rf = RandomForestClassifier(n_estimators=100, max_depth=3, random_state=0)\n",
    "rf.fit(X_train, y_train)\n",
    "y_pred = rf.predict(X_test)\n",
    "print('Accuracy of Random Forest classifier on test set: {:.2f}'.format(metrics.accuracy_score(y_test, y_pred)))"
   ]
  }
 ],
 "metadata": {
  "kernelspec": {
   "display_name": "Python 3",
   "language": "python",
   "name": "python3"
  },
  "language_info": {
   "codemirror_mode": {
    "name": "ipython",
    "version": 3
   },
   "file_extension": ".py",
   "mimetype": "text/x-python",
   "name": "python",
   "nbconvert_exporter": "python",
   "pygments_lexer": "ipython3",
   "version": "3.12.0"
  }
 },
 "nbformat": 4,
 "nbformat_minor": 2
}
